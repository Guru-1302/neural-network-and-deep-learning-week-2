class Employee:
    count = 0

    def __init__(self, name, family_name, salary, dpt):
        self.__name = name
        self.__family_name = family_name
        self.salary = salary
        self.__dpt = dpt
        Employee.count += 1

    def average_salary(employees):
        sum = 0
        for employee in employees:
            sum += employee.salary
        return sum / Employee.count
class FulltimeEmployee(Employee):
    def __init__(self, name, family_name, salary, dpt):
        super().__init__(name, family_name, salary, dpt)

def main():
    employees = []
    fte1 = FulltimeEmployee("guru raghavender", "bachireddy", 1000000, "Unknown")
    employees.append(fte1)
    fte2 = FulltimeEmployee("rum", "vem", 1600000, "US")
    employees.append(fte2)
    emp1 = Employee("rocky", "num", 1400000, "Sales")
    employees.append(emp1)
    emp2 = Employee("sam", "ber", 115000, "UK")
    employees.append(emp2)
    print("Average salary:", FulltimeEmployee.average_salary(employees))


if __name__ == "__main__":
    main()
